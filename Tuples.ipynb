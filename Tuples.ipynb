{
 "cells": [
  {
   "cell_type": "markdown",
   "id": "fe3b09cd",
   "metadata": {},
   "source": [
    "# Tuples"
   ]
  },
  {
   "cell_type": "code",
   "execution_count": null,
   "id": "2a9d09f9",
   "metadata": {},
   "outputs": [],
   "source": [
    "1. Its a sequence datatype.\n",
    "2. Used to store Multiple values of different DT.\n",
    "3. Represented by \"()\" and values are separated by \",\".\n",
    "4. Ordered DT.\n",
    "5. Supports Duplicates.\n",
    "6. IMMUTABLE DT -> we cannot do changes."
   ]
  },
  {
   "cell_type": "code",
   "execution_count": 2,
   "id": "e0fcea68",
   "metadata": {},
   "outputs": [
    {
     "name": "stdout",
     "output_type": "stream",
     "text": [
      "('sai', 45, 23.67, 'mani', 45, 'sai', 'yash', 67)\n",
      "<class 'tuple'>\n"
     ]
    }
   ],
   "source": [
    "t = (\"sai\",45,23.67,\"mani\",45,\"sai\",\"yash\",67)\n",
    "print(t)\n",
    "print(type(t))"
   ]
  },
  {
   "cell_type": "code",
   "execution_count": 3,
   "id": "7f3c19ad",
   "metadata": {},
   "outputs": [
    {
     "name": "stdout",
     "output_type": "stream",
     "text": [
      "23.67\n",
      "sai\n",
      "67\n"
     ]
    }
   ],
   "source": [
    "#Access a particular value from tuple -> index\n",
    "\n",
    "print(t[2])\n",
    "\n",
    "#print beginning value from tuple\n",
    "print(t[0])\n",
    "\n",
    "#print last value from tuple\n",
    "print(t[-1])"
   ]
  },
  {
   "cell_type": "code",
   "execution_count": 4,
   "id": "993bda50",
   "metadata": {},
   "outputs": [
    {
     "name": "stdout",
     "output_type": "stream",
     "text": [
      "original tuple: ('sai', 45, 23.67, 'mani', 45, 'sai', 'yash', 67)\n",
      "(23.67, 'mani', 45, 'sai')\n",
      "('sai', 45, 23.67, 'mani', 45)\n",
      "(45, 23.67, 'mani', 45, 'sai', 'yash', 67)\n",
      "(67, 'yash', 'sai', 45, 'mani', 23.67, 45, 'sai')\n",
      "('sai', 23.67, 45, 'yash')\n",
      "(45, 'mani', 'sai', 67)\n"
     ]
    }
   ],
   "source": [
    "#Access multiple values at a time from tuple -> slicing method\n",
    "#syntax: v_n[StartIndex:StopIndex:StepIndex]\n",
    "\n",
    "print(\"original tuple:\",t)\n",
    "\n",
    "#Access start at 2nd position and end at 5th position\n",
    "print(t[2:6])\n",
    "\n",
    "#start at beginning and end at 4th position\n",
    "print(t[:5])\n",
    "\n",
    "#start at 1st position and end at end of the tuple\n",
    "print(t[1:])\n",
    "\n",
    "#access tuple values in reverse order\n",
    "print(t[::-1])\n",
    "\n",
    "#access even position values from the tuple\n",
    "print(t[::2])\n",
    "\n",
    "#access odd position values from the tuple\n",
    "print(t[1::2])"
   ]
  },
  {
   "cell_type": "code",
   "execution_count": 5,
   "id": "b85a21af",
   "metadata": {},
   "outputs": [
    {
     "name": "stdout",
     "output_type": "stream",
     "text": [
      "()\n",
      "<class 'tuple'>\n",
      "()\n",
      "<class 'tuple'>\n"
     ]
    }
   ],
   "source": [
    "#Create a empty tuple\n",
    "\n",
    "t1 = ()\n",
    "print(t1)\n",
    "print(type(t1))\n",
    "\n",
    "t2 = tuple()\n",
    "print(t2)\n",
    "print(type(t2))"
   ]
  },
  {
   "cell_type": "code",
   "execution_count": 6,
   "id": "517a09b5",
   "metadata": {},
   "outputs": [
    {
     "name": "stdout",
     "output_type": "stream",
     "text": [
      "(99,)\n",
      "<class 'tuple'>\n"
     ]
    }
   ],
   "source": [
    "#create a tuple with single element\n",
    "\n",
    "t = (99,)  #(99)/99\n",
    "print(t)\n",
    "print(type(t))"
   ]
  },
  {
   "cell_type": "code",
   "execution_count": 7,
   "id": "fc4574c6",
   "metadata": {},
   "outputs": [
    {
     "name": "stdout",
     "output_type": "stream",
     "text": [
      "8\n"
     ]
    }
   ],
   "source": [
    "#len()\n",
    "t = (\"sai\",45,23.67,\"mani\",45,\"sai\",\"yash\",67)\n",
    "print(len(t))"
   ]
  },
  {
   "cell_type": "code",
   "execution_count": 8,
   "id": "c2aa0a39",
   "metadata": {},
   "outputs": [
    {
     "name": "stdout",
     "output_type": "stream",
     "text": [
      "2\n"
     ]
    }
   ],
   "source": [
    "#count()-> v_n.count(value)\n",
    "\n",
    "#print how many \"45\" exists in tuple\n",
    "t = (\"sai\",45,23.67,\"mani\",45,\"sai\",\"yash\",67)\n",
    "print(t.count(45))"
   ]
  },
  {
   "cell_type": "code",
   "execution_count": 9,
   "id": "1f9ac5db",
   "metadata": {},
   "outputs": [
    {
     "name": "stdout",
     "output_type": "stream",
     "text": [
      "6\n",
      "0\n",
      "5\n"
     ]
    }
   ],
   "source": [
    "#index()\n",
    "\n",
    "#print position of \"yash\" in tuple\n",
    "t = (\"sai\",45,23.67,\"mani\",45,\"sai\",\"yash\",67)\n",
    "print(t.index(\"yash\"))\n",
    "\n",
    "#print position of \"sai\" in tuple\n",
    "print(t.index(\"sai\"))\n",
    "\n",
    "#print 2nd position of \"sai\" in tuple\n",
    "print(t.index(\"sai\",1))"
   ]
  },
  {
   "cell_type": "code",
   "execution_count": 10,
   "id": "92528f22",
   "metadata": {},
   "outputs": [
    {
     "name": "stdout",
     "output_type": "stream",
     "text": [
      "11\n"
     ]
    }
   ],
   "source": [
    "#min()\n",
    "\n",
    "x = 989,34,12,67,45,11\n",
    "print(min(x))"
   ]
  },
  {
   "cell_type": "code",
   "execution_count": 11,
   "id": "47a0296c",
   "metadata": {},
   "outputs": [
    {
     "name": "stdout",
     "output_type": "stream",
     "text": [
      "989\n"
     ]
    }
   ],
   "source": [
    "#max()\n",
    "\n",
    "x = 989,34,12,67,45,11\n",
    "print(max(x))"
   ]
  },
  {
   "cell_type": "code",
   "execution_count": 12,
   "id": "08f919c8",
   "metadata": {},
   "outputs": [
    {
     "name": "stdout",
     "output_type": "stream",
     "text": [
      "1158\n"
     ]
    }
   ],
   "source": [
    "#sum()\n",
    "\n",
    "x = 989,34,12,67,45,11\n",
    "print(sum(x))"
   ]
  },
  {
   "cell_type": "markdown",
   "id": "9816c4d1",
   "metadata": {},
   "source": [
    "# Tuple Operators"
   ]
  },
  {
   "cell_type": "code",
   "execution_count": 13,
   "id": "4aa67bff",
   "metadata": {},
   "outputs": [],
   "source": [
    "#concatenation(+)\n",
    "#repetition(*)"
   ]
  },
  {
   "cell_type": "code",
   "execution_count": 14,
   "id": "2813969d",
   "metadata": {},
   "outputs": [
    {
     "name": "stdout",
     "output_type": "stream",
     "text": [
      "(90, 56, 'sai', 'pavan', 45, 12, 67.89)\n",
      "(90, 56, 'sai')\n",
      "('pavan', 45, 12, 67.89)\n"
     ]
    }
   ],
   "source": [
    "t1 = (90,56,\"sai\")\n",
    "t2 = (\"pavan\",45,12,67.89)\n",
    "\n",
    "t3 = t1+t2\n",
    "print(t3)\n",
    "print(t1)\n",
    "print(t2)"
   ]
  },
  {
   "cell_type": "code",
   "execution_count": 15,
   "id": "1e3b41e1",
   "metadata": {},
   "outputs": [
    {
     "name": "stdout",
     "output_type": "stream",
     "text": [
      "(90, 56, 'sai', 90, 56, 'sai', 90, 56, 'sai')\n",
      "(90, 56, 'sai')\n"
     ]
    }
   ],
   "source": [
    "t1 = (90,56,\"sai\")\n",
    "t2 = (t1*3)\n",
    "print(t2)\n",
    "print(t1)"
   ]
  },
  {
   "cell_type": "code",
   "execution_count": 16,
   "id": "5083b404",
   "metadata": {},
   "outputs": [
    {
     "name": "stdout",
     "output_type": "stream",
     "text": [
      "sai 45 23.67 mani 45 sai yash sai 67 sai "
     ]
    }
   ],
   "source": [
    "#iterate the tuple \n",
    "\n",
    "t = (\"sai\",45,23.67,\"mani\",45,\"sai\",\"yash\",\"sai\",67,\"sai\")\n",
    "for i in t:\n",
    "    print(i,end=\" \")"
   ]
  },
  {
   "cell_type": "code",
   "execution_count": 18,
   "id": "e63a4a46",
   "metadata": {},
   "outputs": [
    {
     "name": "stdout",
     "output_type": "stream",
     "text": [
      "Index:0 :Value:sai\n",
      "Index:1 :Value:45\n",
      "Index:2 :Value:23.67\n",
      "Index:3 :Value:mani\n",
      "Index:4 :Value:45\n",
      "Index:5 :Value:sai\n",
      "Index:6 :Value:yash\n",
      "Index:7 :Value:sai\n",
      "Index:8 :Value:67\n",
      "Index:9 :Value:sai\n"
     ]
    }
   ],
   "source": [
    "#iterate the tuple where it has to print index along with values-\n",
    "\n",
    "t = (\"sai\",45,23.67,\"mani\",45,\"sai\",\"yash\",\"sai\",67,\"sai\")\n",
    "for i in range(len(t)):\n",
    "    print(f\"Index:{i} :Value:{t[i]}\")"
   ]
  },
  {
   "cell_type": "code",
   "execution_count": null,
   "id": "596be090",
   "metadata": {},
   "outputs": [],
   "source": []
  },
  {
   "cell_type": "code",
   "execution_count": null,
   "id": "f4af6bd1",
   "metadata": {},
   "outputs": [],
   "source": []
  }
 ],
 "metadata": {
  "kernelspec": {
   "display_name": "Python 3 (ipykernel)",
   "language": "python",
   "name": "python3"
  },
  "language_info": {
   "codemirror_mode": {
    "name": "ipython",
    "version": 3
   },
   "file_extension": ".py",
   "mimetype": "text/x-python",
   "name": "python",
   "nbconvert_exporter": "python",
   "pygments_lexer": "ipython3",
   "version": "3.10.4"
  }
 },
 "nbformat": 4,
 "nbformat_minor": 5
}
